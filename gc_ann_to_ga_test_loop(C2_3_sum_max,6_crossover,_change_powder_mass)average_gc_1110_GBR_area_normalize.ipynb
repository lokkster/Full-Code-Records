{
  "cells": [
    {
      "cell_type": "markdown",
      "metadata": {
        "id": "view-in-github",
        "colab_type": "text"
      },
      "source": [
        "<a href=\"https://colab.research.google.com/github/lokkster/Full-Code-Records/blob/Code/gc_ann_to_ga_test_loop(C2_3_sum_max%2C6_crossover%2C_change_powder_mass)average_gc_1110_GBR_area_normalize.ipynb\" target=\"_parent\"><img src=\"https://colab.research.google.com/assets/colab-badge.svg\" alt=\"Open In Colab\"/></a>"
      ]
    },
    {
      "cell_type": "code",
      "execution_count": null,
      "metadata": {
        "colab": {
          "background_save": true,
          "base_uri": "https://localhost:8080/"
        },
        "id": "1rmdo7JU3P6e",
        "outputId": "f1ad4fb2-22cb-49f4-fceb-16ffac552ca3"
      },
      "outputs": [
        {
          "name": "stdout",
          "output_type": "stream",
          "text": [
            "Looking in indexes: https://pypi.org/simple, https://us-python.pkg.dev/colab-wheels/public/simple/\n",
            "Collecting xgboost==1.6.1\n",
            "  Downloading xgboost-1.6.1-py3-none-manylinux2014_x86_64.whl (192.9 MB)\n",
            "\u001b[2K     \u001b[90m━━━━━━━━━━━━━━━━━━━━━━━━━━━━━━━━━━━━━━━\u001b[0m \u001b[32m192.9/192.9 MB\u001b[0m \u001b[31m5.3 MB/s\u001b[0m eta \u001b[36m0:00:00\u001b[0m\n",
            "\u001b[?25hRequirement already satisfied: numpy in /usr/local/lib/python3.10/dist-packages (from xgboost==1.6.1) (1.22.4)\n",
            "Requirement already satisfied: scipy in /usr/local/lib/python3.10/dist-packages (from xgboost==1.6.1) (1.10.1)\n",
            "Installing collected packages: xgboost\n",
            "  Attempting uninstall: xgboost\n",
            "    Found existing installation: xgboost 1.7.5\n",
            "    Uninstalling xgboost-1.7.5:\n",
            "      Successfully uninstalled xgboost-1.7.5\n",
            "Successfully installed xgboost-1.6.1\n",
            "Looking in indexes: https://pypi.org/simple, https://us-python.pkg.dev/colab-wheels/public/simple/\n",
            "Collecting scikit-optimize\n",
            "  Downloading scikit_optimize-0.9.0-py2.py3-none-any.whl (100 kB)\n",
            "\u001b[2K     \u001b[90m━━━━━━━━━━━━━━━━━━━━━━━━━━━━━━━━━━━━━━━\u001b[0m \u001b[32m100.3/100.3 kB\u001b[0m \u001b[31m2.1 MB/s\u001b[0m eta \u001b[36m0:00:00\u001b[0m\n",
            "\u001b[?25hRequirement already satisfied: joblib>=0.11 in /usr/local/lib/python3.10/dist-packages (from scikit-optimize) (1.2.0)\n",
            "Collecting pyaml>=16.9 (from scikit-optimize)\n",
            "  Downloading pyaml-23.5.9-py3-none-any.whl (17 kB)\n",
            "Requirement already satisfied: numpy>=1.13.3 in /usr/local/lib/python3.10/dist-packages (from scikit-optimize) (1.22.4)\n",
            "Requirement already satisfied: scipy>=0.19.1 in /usr/local/lib/python3.10/dist-packages (from scikit-optimize) (1.10.1)\n",
            "Requirement already satisfied: scikit-learn>=0.20.0 in /usr/local/lib/python3.10/dist-packages (from scikit-optimize) (1.2.2)\n",
            "Requirement already satisfied: PyYAML in /usr/local/lib/python3.10/dist-packages (from pyaml>=16.9->scikit-optimize) (6.0)\n",
            "Requirement already satisfied: threadpoolctl>=2.0.0 in /usr/local/lib/python3.10/dist-packages (from scikit-learn>=0.20.0->scikit-optimize) (3.1.0)\n",
            "Installing collected packages: pyaml, scikit-optimize\n",
            "Successfully installed pyaml-23.5.9 scikit-optimize-0.9.0\n"
          ]
        }
      ],
      "source": [
        "!pip install xgboost==1.6.1\n",
        "!pip install scikit-optimize\n"
      ]
    },
    {
      "cell_type": "code",
      "execution_count": null,
      "metadata": {
        "colab": {
          "background_save": true
        },
        "id": "QE760q90qN85"
      },
      "outputs": [],
      "source": [
        "#from google.colab import drive\n",
        "#drive.mount('/content/drive')"
      ]
    },
    {
      "cell_type": "markdown",
      "metadata": {
        "id": "7JL4nGj0K7p2"
      },
      "source": [
        "choose between xgbr, dtr and ann (1.dtr ,2.xgbr, 3.ann)"
      ]
    },
    {
      "cell_type": "code",
      "execution_count": null,
      "metadata": {
        "colab": {
          "background_save": true
        },
        "id": "JkKyRqoOTv52"
      },
      "outputs": [],
      "source": [
        "#from xgboost import XGBRegressor\n",
        "#new_model=XGBRegressor()\n",
        "#new_model.load_model('/content/drive/MyDrive/Colab Notebooks/xgbr_avggc5in1110.h5')\n",
        "\n",
        "#gbr\n",
        "import pickle\n",
        "with open(\"/content/drive/MyDrive/Colab Notebooks/gbr_avggc1110areanorm.pkl\" , 'rb') as f:\n",
        "    new_model = pickle.load(f)\n"
      ]
    },
    {
      "cell_type": "code",
      "execution_count": null,
      "metadata": {
        "colab": {
          "background_save": true
        },
        "id": "cdrKe6V1IR_M"
      },
      "outputs": [],
      "source": [
        "#import numpy as np\n",
        "#import pandas as pd\n",
        "#test=np.asarray([[2,57.73,0.33,1,850]])\n",
        "#pd.DataFrame(test).to_csv('test.csv')\n",
        "#tests=pd.read_csv('test.csv').iloc[:,1:6].values\n",
        "\n",
        "#print(tests)\n",
        "#print(new_model.predict(tests))"
      ]
    },
    {
      "cell_type": "code",
      "execution_count": null,
      "metadata": {
        "colab": {
          "background_save": true,
          "base_uri": "https://localhost:8080/"
        },
        "id": "2MCKbNQVbI0e",
        "outputId": "023a13bf-a788-4a68-9acb-76d1b6424c24"
      },
      "outputs": [
        {
          "name": "stdout",
          "output_type": "stream",
          "text": [
            "[2.00000000e+00 4.85198001e+01 3.55247982e-01 3.00000000e+00\n",
            " 1.00000000e+03]\n"
          ]
        }
      ],
      "source": [
        "import pandas as pd\n",
        "import numpy as np\n",
        "test=pd.read_csv('/content/drive/MyDrive/Colab Notebooks/data/average GC full dataset new 1110 for colab area amplified arranged for colab.csv')\n",
        "Xtest=test.iloc[:,:5].values\n",
        "Ytest = test.iloc[:,5:].values\n",
        "print(Xtest[0])\n"
      ]
    },
    {
      "cell_type": "code",
      "execution_count": null,
      "metadata": {
        "colab": {
          "background_save": true
        },
        "id": "XI4rHaTibR5a"
      },
      "outputs": [],
      "source": [
        "#prediction=new_model.predict(Xtest)\n",
        "#print(prediction)\n",
        "#print(Ytest)\n",
        "\n",
        "#import numpy as np\n",
        "\n",
        "#Defining MAPE function\n",
        "#def MAPE(Y_actual,Y_Predicted):\n",
        " #   mape = np.mean(np.abs((Y_actual - Y_Predicted)/Y_actual))*100\n",
        "  #  return mape\n",
        "\n",
        "#LR_MAPE= MAPE(Ytest,prediction)\n",
        "#print(\"MAPE: \",LR_MAPE)\n",
        "#print(Ytest[0,2])"
      ]
    },
    {
      "cell_type": "code",
      "execution_count": null,
      "metadata": {
        "colab": {
          "background_save": true
        },
        "id": "RURgkRGhzL43"
      },
      "outputs": [],
      "source": [
        "#df=pd.DataFrame(prediction,index=None)\n",
        "#arr=df[2]\n",
        "#arr2=arr.to_numpy()\n",
        "#print(arr2)"
      ]
    },
    {
      "cell_type": "code",
      "execution_count": null,
      "metadata": {
        "colab": {
          "background_save": true
        },
        "id": "yJDYy-76qgVk"
      },
      "outputs": [],
      "source": [
        "def prediction(input):\n",
        "   \n",
        "   pred=new_model.predict(input)\n",
        "   preddf=pd.DataFrame(pred,index=None)\n",
        "   predc2h4=preddf[2]\n",
        "   predacetic=preddf[3]\n",
        "   predeth=preddf[4]\n",
        "   predvalue=predc2h4+predacetic+predeth\n",
        "   predarr=predvalue.to_numpy()\n",
        "\n",
        "   return predarr"
      ]
    },
    {
      "cell_type": "code",
      "execution_count": null,
      "metadata": {
        "colab": {
          "background_save": true
        },
        "id": "_emH4ZF_C8rd"
      },
      "outputs": [],
      "source": [
        "def fitness(input):\n",
        "    ans=prediction(input)\n",
        "    return ans"
      ]
    },
    {
      "cell_type": "code",
      "execution_count": null,
      "metadata": {
        "colab": {
          "background_save": true
        },
        "id": "y_YD2vm0EvDY"
      },
      "outputs": [],
      "source": [
        "import random\n",
        "#generate solutions\n",
        "input=[]\n",
        "for s in range(30):\n",
        "    NPCtype=random.randint(1,2)\n",
        "    \n",
        "    NPCweight=random.randrange(27000,75000,50)/1000\n",
        "    loading=random.randrange(295,495,5)/1000\n",
        "    KOHconc=random.choice([1,3,0.75])\n",
        "    #ratio=random.randrange(7,11,1)\n",
        "    current=random.randrange(100,1001,50)\n",
        "\n",
        "\n",
        "    input.append([(NPCtype,NPCweight,loading,KOHconc,current)])\n",
        "\n",
        "input=np.asarray(input)\n",
        "mating_pool=input.reshape(input.shape[0],input.shape[2])"
      ]
    },
    {
      "cell_type": "code",
      "execution_count": null,
      "metadata": {
        "colab": {
          "background_save": true,
          "base_uri": "https://localhost:8080/"
        },
        "id": "dzDBv5nXC3Aw",
        "outputId": "160b30a0-03ab-4321-f728-61f14442afa4"
      },
      "outputs": [
        {
          "name": "stdout",
          "output_type": "stream",
          "text": [
            "[[2.000e+00 6.430e+01 3.450e-01 3.000e+00 1.000e+03]\n",
            " [1.000e+00 3.310e+01 3.150e-01 3.000e+00 1.000e+02]\n",
            " [1.000e+00 6.245e+01 4.850e-01 1.000e+00 6.000e+02]\n",
            " [2.000e+00 5.270e+01 4.200e-01 3.000e+00 6.000e+02]\n",
            " [1.000e+00 6.140e+01 3.050e-01 7.500e-01 6.500e+02]\n",
            " [2.000e+00 4.425e+01 3.350e-01 7.500e-01 2.500e+02]\n",
            " [2.000e+00 4.215e+01 3.400e-01 1.000e+00 8.000e+02]\n",
            " [2.000e+00 3.810e+01 4.150e-01 1.000e+00 6.000e+02]\n",
            " [2.000e+00 4.600e+01 4.450e-01 1.000e+00 2.500e+02]\n",
            " [1.000e+00 4.235e+01 3.300e-01 1.000e+00 8.000e+02]\n",
            " [1.000e+00 6.195e+01 4.500e-01 1.000e+00 5.500e+02]\n",
            " [2.000e+00 4.665e+01 4.250e-01 1.000e+00 4.500e+02]\n",
            " [2.000e+00 4.315e+01 3.600e-01 1.000e+00 2.500e+02]\n",
            " [2.000e+00 4.060e+01 3.350e-01 7.500e-01 3.000e+02]\n",
            " [2.000e+00 4.030e+01 3.950e-01 7.500e-01 5.000e+02]\n",
            " [2.000e+00 2.755e+01 3.050e-01 1.000e+00 4.000e+02]\n",
            " [1.000e+00 6.845e+01 3.500e-01 1.000e+00 1.000e+03]\n",
            " [1.000e+00 4.985e+01 3.650e-01 3.000e+00 2.500e+02]\n",
            " [1.000e+00 5.030e+01 4.100e-01 3.000e+00 2.000e+02]\n",
            " [1.000e+00 3.065e+01 3.800e-01 7.500e-01 7.000e+02]\n",
            " [1.000e+00 6.355e+01 3.300e-01 7.500e-01 7.000e+02]\n",
            " [2.000e+00 7.275e+01 3.900e-01 1.000e+00 2.500e+02]\n",
            " [1.000e+00 5.040e+01 4.850e-01 3.000e+00 3.000e+02]\n",
            " [2.000e+00 6.935e+01 4.900e-01 1.000e+00 6.000e+02]\n",
            " [1.000e+00 5.950e+01 4.400e-01 3.000e+00 8.000e+02]\n",
            " [2.000e+00 2.755e+01 3.250e-01 7.500e-01 4.000e+02]\n",
            " [2.000e+00 5.885e+01 3.550e-01 1.000e+00 6.000e+02]\n",
            " [2.000e+00 4.135e+01 3.800e-01 1.000e+00 8.500e+02]\n",
            " [1.000e+00 3.955e+01 3.950e-01 7.500e-01 4.000e+02]\n",
            " [2.000e+00 5.295e+01 4.250e-01 1.000e+00 4.500e+02]]\n",
            "[65.42478778 34.372892   56.81055577 58.48739779 55.31921665 41.11113481\n",
            " 57.33464629 58.21706594 39.78754592 63.74248481 53.38115996 63.2925273\n",
            " 31.48026969 38.47587082 52.54931211 48.23219511 55.17976678 25.7318821\n",
            " 27.06555313 47.55805828 63.37433069 34.8509354  32.45318995 66.15344415\n",
            " 73.69462807 47.53074884 51.73888267 49.54235511 40.56866507 58.42234848]\n"
          ]
        }
      ],
      "source": [
        "test=prediction(mating_pool)\n",
        "test=np.asarray(test)\n",
        "\n",
        "print(mating_pool)\n",
        "print(test)"
      ]
    },
    {
      "cell_type": "code",
      "execution_count": null,
      "metadata": {
        "colab": {
          "background_save": true,
          "base_uri": "https://localhost:8080/"
        },
        "id": "9X833b8l4kqP",
        "outputId": "24ac0721-8dac-4fb6-cd48-ad27f3d0e0ec"
      },
      "outputs": [
        {
          "name": "stdout",
          "output_type": "stream",
          "text": [
            "[[1.000e+00 5.950e+01 4.400e-01 3.000e+00 8.000e+02]\n",
            " [2.000e+00 6.935e+01 4.900e-01 1.000e+00 6.000e+02]\n",
            " [2.000e+00 6.430e+01 3.450e-01 3.000e+00 1.000e+03]\n",
            " [1.000e+00 4.235e+01 3.300e-01 1.000e+00 8.000e+02]\n",
            " [1.000e+00 6.355e+01 3.300e-01 7.500e-01 7.000e+02]\n",
            " [2.000e+00 4.665e+01 4.250e-01 1.000e+00 4.500e+02]\n",
            " [2.000e+00 5.270e+01 4.200e-01 3.000e+00 6.000e+02]\n",
            " [2.000e+00 5.295e+01 4.250e-01 1.000e+00 4.500e+02]\n",
            " [2.000e+00 3.810e+01 4.150e-01 1.000e+00 6.000e+02]\n",
            " [2.000e+00 4.215e+01 3.400e-01 1.000e+00 8.000e+02]\n",
            " [1.000e+00 6.245e+01 4.850e-01 1.000e+00 6.000e+02]\n",
            " [1.000e+00 6.140e+01 3.050e-01 7.500e-01 6.500e+02]\n",
            " [1.000e+00 6.845e+01 3.500e-01 1.000e+00 1.000e+03]\n",
            " [1.000e+00 6.195e+01 4.500e-01 1.000e+00 5.500e+02]\n",
            " [2.000e+00 4.030e+01 3.950e-01 7.500e-01 5.000e+02]\n",
            " [2.000e+00 5.885e+01 3.550e-01 1.000e+00 6.000e+02]\n",
            " [2.000e+00 4.135e+01 3.800e-01 1.000e+00 8.500e+02]\n",
            " [2.000e+00 2.755e+01 3.050e-01 1.000e+00 4.000e+02]\n",
            " [1.000e+00 3.065e+01 3.800e-01 7.500e-01 7.000e+02]\n",
            " [2.000e+00 2.755e+01 3.250e-01 7.500e-01 4.000e+02]\n",
            " [2.000e+00 4.425e+01 3.350e-01 7.500e-01 2.500e+02]\n",
            " [1.000e+00 3.955e+01 3.950e-01 7.500e-01 4.000e+02]\n",
            " [2.000e+00 4.600e+01 4.450e-01 1.000e+00 2.500e+02]\n",
            " [2.000e+00 4.060e+01 3.350e-01 7.500e-01 3.000e+02]\n",
            " [2.000e+00 7.275e+01 3.900e-01 1.000e+00 2.500e+02]\n",
            " [1.000e+00 3.310e+01 3.150e-01 3.000e+00 1.000e+02]\n",
            " [1.000e+00 5.040e+01 4.850e-01 3.000e+00 3.000e+02]\n",
            " [2.000e+00 4.315e+01 3.600e-01 1.000e+00 2.500e+02]\n",
            " [1.000e+00 5.030e+01 4.100e-01 3.000e+00 2.000e+02]\n",
            " [1.000e+00 4.985e+01 3.650e-01 3.000e+00 2.500e+02]]\n"
          ]
        }
      ],
      "source": [
        "#select first four as parents(best 4)\n",
        "def parent_selection(mating_pool):\n",
        "    fitness_mating_pool=prediction(mating_pool)\n",
        "    mix_mating_fitness=np.column_stack((mating_pool,fitness_mating_pool))\n",
        "\n",
        "    mixsort=mix_mating_fitness[mix_mating_fitness[:, 5].argsort()[::-1]]\n",
        "    parents_pool=mixsort[:,0:5]\n",
        "    parents_results=mixsort[:,5]\n",
        "    return parents_pool\n",
        "\n",
        "print(parent_selection(mating_pool))"
      ]
    },
    {
      "cell_type": "code",
      "execution_count": null,
      "metadata": {
        "colab": {
          "background_save": true
        },
        "id": "izm03eej6XuE"
      },
      "outputs": [],
      "source": [
        "# crossover(for mating)\n",
        "def uniform_crossover(A,B,C,D,E,F,P):\n",
        "    for i in range(len(P)):\n",
        "        if P[i]<0.5:\n",
        "          temp=A[i]\n",
        "          A[i]=B[i]\n",
        "          B[i]=C[i]\n",
        "          C[i]=D[i]\n",
        "          D[i]=E[i]\n",
        "          E[i]=F[i]\n",
        "          F[i]=temp\n",
        "    return A,B,C,D,E,F\n",
        "\n",
        "def crossover_process(mating_pool):\n",
        "    A=mating_pool[0]\n",
        "    B=mating_pool[1]\n",
        "    C=mating_pool[2]\n",
        "    D=mating_pool[3]\n",
        "    E=mating_pool[4]\n",
        "    F=mating_pool[5]\n",
        "    P=np.random.rand(5)\n",
        "    crossover_pool=uniform_crossover(A,B,C,D,E,F,P)\n",
        "    crossover_pool=np.asarray(crossover_pool)\n",
        "  \n",
        "    return crossover_pool\n",
        "\n",
        "\n",
        "\n",
        "\n"
      ]
    },
    {
      "cell_type": "code",
      "execution_count": null,
      "metadata": {
        "colab": {
          "background_save": true
        },
        "id": "BV8M_HDwA8Se"
      },
      "outputs": [],
      "source": [
        "#mutation!\n",
        "def mutation(crossover_pool):\n",
        "    mutation_rate=random.uniform(0.7,1.3)\n",
        "    mutation_X=crossover_pool[:,0]\n",
        "    mutation_pool=crossover_pool[:,1:]*mutation_rate\n",
        "    final_mutation=np.column_stack((mutation_X,mutation_pool))\n",
        "    return final_mutation\n",
        "\n",
        "#mutation_pool=mutation(parents_pool)\n",
        "#print(mutation_pool)\n",
        "#print(mutation_pool)\n",
        "#mutation_rate=random.uniform(0.98,1.02)\n",
        "#X=mating_pool[:,0]\n",
        "#mutation_pool=mating_pool[:,1:]*mutation_rate\n",
        "#yui=np.column_stack((X,mutation_pool))\n",
        "#print(mutation_pool,yui)"
      ]
    },
    {
      "cell_type": "code",
      "execution_count": null,
      "metadata": {
        "colab": {
          "background_save": true,
          "base_uri": "https://localhost:8080/"
        },
        "id": "z68QA3b_ZHRk",
        "outputId": "2739d9cc-9570-4f74-ff2b-e6d0fa4308d8"
      },
      "outputs": [
        {
          "name": "stdout",
          "output_type": "stream",
          "text": [
            "[[1.00000000e+00 5.95000000e+01 4.40000000e-01 3.00000000e+00\n",
            "  8.00000000e+02]\n",
            " [2.00000000e+00 5.40997804e+01 2.69133731e-01 7.80097770e-01\n",
            "  7.80097770e+02]\n",
            " [2.00000000e+00 6.93500000e+01 4.90000000e-01 1.00000000e+00\n",
            "  6.00000000e+02]\n",
            " [2.00000000e+00 6.43000000e+01 3.45000000e-01 3.00000000e+00\n",
            "  1.00000000e+03]\n",
            " [2.00000000e+00 5.01602866e+01 2.57432264e-01 2.34029331e+00\n",
            "  6.24078216e+02]\n",
            " [1.00000000e+00 4.23500000e+01 3.30000000e-01 1.00000000e+00\n",
            "  8.00000000e+02]\n",
            " [1.00000000e+00 6.35500000e+01 3.30000000e-01 7.50000000e-01\n",
            "  7.00000000e+02]\n",
            " [2.00000000e+00 4.66500000e+01 4.25000000e-01 1.00000000e+00\n",
            "  4.50000000e+02]\n",
            " [2.00000000e+00 5.27000000e+01 4.20000000e-01 3.00000000e+00\n",
            "  6.00000000e+02]\n",
            " [2.00000000e+00 5.29500000e+01 4.25000000e-01 1.00000000e+00\n",
            "  4.50000000e+02]\n",
            " [2.00000000e+00 3.81000000e+01 4.15000000e-01 1.00000000e+00\n",
            "  6.00000000e+02]\n",
            " [2.00000000e+00 4.21500000e+01 3.40000000e-01 1.00000000e+00\n",
            "  8.00000000e+02]\n",
            " [1.00000000e+00 6.24500000e+01 4.85000000e-01 1.00000000e+00\n",
            "  6.00000000e+02]\n",
            " [1.00000000e+00 6.14000000e+01 3.05000000e-01 7.50000000e-01\n",
            "  6.50000000e+02]\n",
            " [1.00000000e+00 6.84500000e+01 3.50000000e-01 1.00000000e+00\n",
            "  1.00000000e+03]\n",
            " [1.00000000e+00 6.19500000e+01 4.50000000e-01 1.00000000e+00\n",
            "  5.50000000e+02]\n",
            " [2.00000000e+00 3.63915610e+01 3.43243019e-01 7.80097770e-01\n",
            "  6.24078216e+02]\n",
            " [2.00000000e+00 4.03000000e+01 3.95000000e-01 7.50000000e-01\n",
            "  5.00000000e+02]\n",
            " [2.00000000e+00 5.88500000e+01 3.55000000e-01 1.00000000e+00\n",
            "  6.00000000e+02]\n",
            " [2.00000000e+00 4.13500000e+01 3.80000000e-01 1.00000000e+00\n",
            "  8.50000000e+02]\n",
            " [2.00000000e+00 2.75500000e+01 3.05000000e-01 1.00000000e+00\n",
            "  4.00000000e+02]\n",
            " [1.00000000e+00 3.06500000e+01 3.80000000e-01 7.50000000e-01\n",
            "  7.00000000e+02]\n",
            " [2.00000000e+00 2.75500000e+01 3.25000000e-01 7.50000000e-01\n",
            "  4.00000000e+02]\n",
            " [1.00000000e+00 4.64158173e+01 3.82247907e-01 2.34029331e+00\n",
            "  4.68058662e+02]\n",
            " [2.00000000e+00 4.42500000e+01 3.35000000e-01 7.50000000e-01\n",
            "  2.50000000e+02]\n",
            " [1.00000000e+00 3.95500000e+01 3.95000000e-01 7.50000000e-01\n",
            "  4.00000000e+02]\n",
            " [1.00000000e+00 4.95752133e+01 3.31541552e-01 5.85073328e-01\n",
            "  3.51043997e+02]\n",
            " [2.00000000e+00 4.60000000e+01 4.45000000e-01 1.00000000e+00\n",
            "  2.50000000e+02]\n",
            " [2.00000000e+00 4.06000000e+01 3.35000000e-01 7.50000000e-01\n",
            "  3.00000000e+02]\n",
            " [2.00000000e+00 7.27500000e+01 3.90000000e-01 1.00000000e+00\n",
            "  2.50000000e+02]]\n"
          ]
        }
      ],
      "source": [
        "#survival selection by def\n",
        "def survivor_selection():\n",
        "    new_mating_pool=np.insert(mutation(crossover_process(parent_selection(mating_pool))),0,mating_pool,axis=0)\n",
        "    fitness_new_pool=fitness(new_mating_pool)\n",
        "    mix_new_fitness=np.column_stack((new_mating_pool,fitness_new_pool))\n",
        "\n",
        "    mixsortnew=mix_new_fitness[mix_new_fitness[:, 5].argsort()]\n",
        "    mixsortnew =mixsortnew[::-1]\n",
        "    mixsortnew=mixsortnew[:]\n",
        "    new_mating_pool=mixsortnew[0:30,0:5]\n",
        "    return new_mating_pool\n",
        "    #return fitness(new_mating_pool)\n",
        "\n",
        "\n",
        "test2=survivor_selection()\n",
        "print(test2)"
      ]
    },
    {
      "cell_type": "code",
      "execution_count": null,
      "metadata": {
        "colab": {
          "background_save": true,
          "base_uri": "https://localhost:8080/"
        },
        "id": "CvBNKzeJIyN5",
        "outputId": "9fbfbc68-08aa-45ec-bc5b-5098d22954b3"
      },
      "outputs": [
        {
          "name": "stdout",
          "output_type": "stream",
          "text": [
            "[[1.00000000e+00 5.95000000e+01 4.40000000e-01 3.00000000e+00\n",
            "  8.00000000e+02]\n",
            " [1.00000000e+00 4.93395623e+01 2.53220149e-01 2.30200135e+00\n",
            "  7.67333784e+02]\n",
            " [2.00000000e+00 6.93500000e+01 4.90000000e-01 1.00000000e+00\n",
            "  6.00000000e+02]\n",
            " [2.00000000e+00 6.43000000e+01 3.45000000e-01 3.00000000e+00\n",
            "  1.00000000e+03]\n",
            " [1.00000000e+00 4.23500000e+01 3.30000000e-01 1.00000000e+00\n",
            "  8.00000000e+02]\n",
            " [1.00000000e+00 6.35500000e+01 3.30000000e-01 7.50000000e-01\n",
            "  7.00000000e+02]\n",
            " [2.00000000e+00 4.66500000e+01 4.25000000e-01 1.00000000e+00\n",
            "  4.50000000e+02]\n",
            " [2.00000000e+00 4.56563601e+01 3.75993554e-01 2.30200135e+00\n",
            "  6.13867027e+02]\n",
            " [2.00000000e+00 5.27000000e+01 4.20000000e-01 3.00000000e+00\n",
            "  6.00000000e+02]\n",
            " [2.00000000e+00 5.29500000e+01 4.25000000e-01 1.00000000e+00\n",
            "  4.50000000e+02]\n",
            " [2.00000000e+00 3.81000000e+01 4.15000000e-01 1.00000000e+00\n",
            "  6.00000000e+02]\n",
            " [2.00000000e+00 4.21500000e+01 3.40000000e-01 1.00000000e+00\n",
            "  8.00000000e+02]\n",
            " [1.00000000e+00 6.24500000e+01 4.85000000e-01 1.00000000e+00\n",
            "  6.00000000e+02]\n",
            " [2.00000000e+00 4.87640620e+01 3.26116858e-01 5.75500338e-01\n",
            "  5.37133649e+02]\n",
            " [1.00000000e+00 6.14000000e+01 3.05000000e-01 7.50000000e-01\n",
            "  6.50000000e+02]\n",
            " [1.00000000e+00 6.84500000e+01 3.50000000e-01 1.00000000e+00\n",
            "  1.00000000e+03]\n",
            " [1.00000000e+00 6.19500000e+01 4.50000000e-01 1.00000000e+00\n",
            "  5.50000000e+02]\n",
            " [2.00000000e+00 4.03000000e+01 3.95000000e-01 7.50000000e-01\n",
            "  5.00000000e+02]\n",
            " [2.00000000e+00 5.88500000e+01 3.55000000e-01 1.00000000e+00\n",
            "  6.00000000e+02]\n",
            " [2.00000000e+00 4.13500000e+01 3.80000000e-01 1.00000000e+00\n",
            "  8.50000000e+02]\n",
            " [2.00000000e+00 2.75500000e+01 3.05000000e-01 1.00000000e+00\n",
            "  4.00000000e+02]\n",
            " [1.00000000e+00 3.06500000e+01 3.80000000e-01 7.50000000e-01\n",
            "  7.00000000e+02]\n",
            " [2.00000000e+00 2.75500000e+01 3.25000000e-01 7.50000000e-01\n",
            "  4.00000000e+02]\n",
            " [1.00000000e+00 3.24965858e+01 2.53220149e-01 7.67333784e-01\n",
            "  6.13867027e+02]\n",
            " [1.00000000e+00 3.57961210e+01 3.37626865e-01 7.67333784e-01\n",
            "  3.45300203e+02]\n",
            " [2.00000000e+00 5.32145979e+01 2.64730155e-01 7.67333784e-01\n",
            "  4.60400270e+02]\n",
            " [2.00000000e+00 4.42500000e+01 3.35000000e-01 7.50000000e-01\n",
            "  2.50000000e+02]\n",
            " [1.00000000e+00 3.95500000e+01 3.95000000e-01 7.50000000e-01\n",
            "  4.00000000e+02]\n",
            " [2.00000000e+00 4.60000000e+01 4.45000000e-01 1.00000000e+00\n",
            "  2.50000000e+02]\n",
            " [2.00000000e+00 4.06000000e+01 3.35000000e-01 7.50000000e-01\n",
            "  3.00000000e+02]]\n"
          ]
        }
      ],
      "source": [
        "def genetic_algorithm():\n",
        "    parents=parent_selection(mating_pool)\n",
        "    \n",
        "    \n",
        "    cross_p=crossover_process(parents)\n",
        "   \n",
        "    mutant_p=mutation(cross_p)\n",
        "    survived_p=survivor_selection()\n",
        "    return survived_p\n",
        "    \n",
        "\n",
        "\n",
        "print(genetic_algorithm())\n"
      ]
    },
    {
      "cell_type": "code",
      "execution_count": null,
      "metadata": {
        "colab": {
          "background_save": true,
          "base_uri": "https://localhost:8080/"
        },
        "id": "jk4fCQFe07w3",
        "outputId": "b6c871a5-b372-40f4-974c-ec9fd7dec811"
      },
      "outputs": [
        {
          "name": "stdout",
          "output_type": "stream",
          "text": [
            "[array([1.00e+00, 5.95e+01, 4.40e-01, 3.00e+00, 8.00e+02])]\n",
            "gen 1 = [[1.00000000e+00 5.95000000e+01 4.40000000e-01 3.00000000e+00\n",
            "  8.00000000e+02]\n",
            " [1.00000000e+00 4.52234599e+01 2.32095517e-01 2.10995925e+00\n",
            "  7.03319749e+02]\n",
            " [2.00000000e+00 6.93500000e+01 4.90000000e-01 1.00000000e+00\n",
            "  6.00000000e+02]\n",
            " [2.00000000e+00 6.43000000e+01 3.45000000e-01 3.00000000e+00\n",
            "  1.00000000e+03]\n",
            " [1.00000000e+00 4.23500000e+01 3.30000000e-01 1.00000000e+00\n",
            "  8.00000000e+02]\n",
            " [1.00000000e+00 6.35500000e+01 3.30000000e-01 7.50000000e-01\n",
            "  7.00000000e+02]\n",
            " [2.00000000e+00 4.66500000e+01 4.25000000e-01 1.00000000e+00\n",
            "  4.50000000e+02]\n",
            " [2.00000000e+00 5.27000000e+01 4.20000000e-01 3.00000000e+00\n",
            "  6.00000000e+02]\n",
            " [2.00000000e+00 5.29500000e+01 4.25000000e-01 1.00000000e+00\n",
            "  4.50000000e+02]\n",
            " [2.00000000e+00 3.81000000e+01 4.15000000e-01 1.00000000e+00\n",
            "  6.00000000e+02]\n",
            " [2.00000000e+00 4.21500000e+01 3.40000000e-01 1.00000000e+00\n",
            "  8.00000000e+02]\n",
            " [1.00000000e+00 6.24500000e+01 4.85000000e-01 1.00000000e+00\n",
            "  6.00000000e+02]\n",
            " [1.00000000e+00 6.14000000e+01 3.05000000e-01 7.50000000e-01\n",
            "  6.50000000e+02]\n",
            " [1.00000000e+00 6.84500000e+01 3.50000000e-01 1.00000000e+00\n",
            "  1.00000000e+03]\n",
            " [1.00000000e+00 6.19500000e+01 4.50000000e-01 1.00000000e+00\n",
            "  5.50000000e+02]\n",
            " [2.00000000e+00 4.03000000e+01 3.95000000e-01 7.50000000e-01\n",
            "  5.00000000e+02]\n",
            " [2.00000000e+00 5.88500000e+01 3.55000000e-01 1.00000000e+00\n",
            "  6.00000000e+02]\n",
            " [2.00000000e+00 4.18475251e+01 3.44626677e-01 2.10995925e+00\n",
            "  5.62655800e+02]\n",
            " [2.00000000e+00 4.13500000e+01 3.80000000e-01 1.00000000e+00\n",
            "  8.50000000e+02]\n",
            " [2.00000000e+00 2.75500000e+01 3.05000000e-01 1.00000000e+00\n",
            "  4.00000000e+02]\n",
            " [1.00000000e+00 3.06500000e+01 3.80000000e-01 7.50000000e-01\n",
            "  7.00000000e+02]\n",
            " [2.00000000e+00 2.75500000e+01 3.25000000e-01 7.50000000e-01\n",
            "  4.00000000e+02]\n",
            " [1.00000000e+00 3.28098663e+01 3.09460690e-01 7.03319749e-01\n",
            "  3.16493887e+02]\n",
            " [1.00000000e+00 2.97855914e+01 2.32095517e-01 7.03319749e-01\n",
            "  5.62655800e+02]\n",
            " [2.00000000e+00 4.46959701e+01 2.98910893e-01 5.27489812e-01\n",
            "  4.92323825e+02]\n",
            " [2.00000000e+00 4.42500000e+01 3.35000000e-01 7.50000000e-01\n",
            "  2.50000000e+02]\n",
            " [2.00000000e+00 4.87752246e+01 2.42645314e-01 7.03319749e-01\n",
            "  4.21991850e+02]\n",
            " [1.00000000e+00 3.95500000e+01 3.95000000e-01 7.50000000e-01\n",
            "  4.00000000e+02]\n",
            " [2.00000000e+00 4.60000000e+01 4.45000000e-01 1.00000000e+00\n",
            "  2.50000000e+02]\n",
            " [2.00000000e+00 4.06000000e+01 3.35000000e-01 7.50000000e-01\n",
            "  3.00000000e+02]]\n",
            "best results: [15.36364731 16.44134627 50.3707038   2.56723681 20.75668746]\n",
            "Fittest C2H4+ethanol: 73.69462806851804\n"
          ]
        }
      ],
      "source": [
        "initial_gen=0\n",
        "max_gen=1000\n",
        "\n",
        "import numpy as np\n",
        "\n",
        "\n",
        "while initial_gen<max_gen:\n",
        "   x_new=genetic_algorithm()\n",
        "   initial_gen+=1 \n",
        "   mating_pool=x_new\n",
        "   \n",
        "   first=x_new[0]\n",
        "   first=np.asarray(first)\n",
        "   print([first])\n",
        "   print(\"gen\",initial_gen,\"=\",x_new)\n",
        "   \n",
        "   test=new_model.predict(x_new)\n",
        "   c2test=test[:,2]+test[:,4]+test[:,3]\n",
        "   print(\"best results:\",test[0])\n",
        "   \n",
        "   print(\"Fittest C2H4+ethanol:\",c2test[0])\n",
        "   if c2test[0]>=70 : break\n",
        "   #elif np.sum(test[0])>=97.5: break\n",
        "   "
      ]
    },
    {
      "cell_type": "code",
      "execution_count": null,
      "metadata": {
        "colab": {
          "background_save": true,
          "base_uri": "https://localhost:8080/"
        },
        "id": "V1goG-OVApFu",
        "outputId": "5bbb9c89-ee58-4511-872e-7864a16ee6c7"
      },
      "outputs": [
        {
          "name": "stdout",
          "output_type": "stream",
          "text": [
            "[15.36364731 16.44134627 50.3707038   2.56723681 20.75668746] [1.00e+00 5.95e+01 4.40e-01 3.00e+00 8.00e+02]\n",
            "[[15.36364731 16.44134627 50.3707038   2.56723681 20.75668746]\n",
            " [26.29395813 12.37520868 47.12485442  0.35979629 19.2128462 ]\n",
            " [24.93070173  2.52244902 42.49019711  2.99698862 20.66625843]\n",
            " [25.53927077  7.81029912 41.49989234  4.15311581 19.77177963]\n",
            " [21.57062597 13.56324384 47.48317783  0.18223261 16.07707438]\n",
            " [16.48486011 16.58309058 48.04664705  1.43593288 13.89175076]\n",
            " [15.78292632 27.71648251 46.73419814  1.24134781 15.31698135]\n",
            " [ 9.39205065 27.69486518 36.76225478  0.94287205 20.78227096]\n",
            " [14.97055511 29.61989476 42.48743824  0.65615536 15.27875488]\n",
            " [18.48428437 22.09439101 36.47190545  2.34162916 19.40353133]\n",
            " [17.59629869 24.91442364 39.0023899   3.29321539 15.03904101]\n",
            " [19.61373011 16.97720306 36.6734666   1.70074718 18.43634199]\n",
            " [15.92659905 17.05303393 39.99893206  1.51706685 13.80321774]\n",
            " [25.49897915 11.23974838 33.74548984  2.93938153 18.49489541]\n",
            " [19.23377961 19.04689229 33.98341505  1.38313561 18.0146093 ]\n",
            " [12.48940426 32.48392469 39.75305693  1.14909604 11.64715914]\n",
            " [23.68285265  2.18525695 30.16910854  2.63740215 18.93237198]\n",
            " [20.91500608 30.6121031  31.22523261  2.08428146 16.80675876]\n",
            " [17.78638484 29.59419758 33.99183323  1.80887162 13.74165026]\n",
            " [ 8.33190178 36.32384942 35.81034451  0.22213213 12.19971848]\n",
            " [20.49972095 35.82190038 40.00758647  0.49526832  7.05520349]\n",
            " [ 6.16238982 44.2080734  35.85738793 -0.15382482 11.82718573]\n",
            " [14.43243143 32.12645832 35.79888134  0.5685042  10.2784202 ]\n",
            " [26.96280288 24.77384208 35.04793076 -0.1569395   8.79953487]\n",
            " [15.74641252 28.4380927  24.01610988  2.02432635 16.19260967]\n",
            " [ 7.16700592 39.77298031 31.66855073  0.84494375  8.59764033]\n",
            " [15.22901847 30.90165742 22.85385518  2.12938842 16.12025532]\n",
            " [13.55447888 29.02391738 30.19354533  1.18656217  9.18855757]\n",
            " [12.7972152  42.8837716  28.28109856  1.355176   10.15127135]\n",
            " [ 8.75822742 37.93014602 29.38005981  0.36964047  8.72617055]]\n"
          ]
        }
      ],
      "source": [
        "print(test[0],mating_pool[0])\n",
        "print(new_model.predict(mating_pool))\n"
      ]
    }
  ],
  "metadata": {
    "colab": {
      "provenance": [],
      "mount_file_id": "1wr9rUFfSPoAZc0J6u6eSjU2VynBJBnx2",
      "authorship_tag": "ABX9TyOWXEWKV8l2bKKisD8wLGd6",
      "include_colab_link": true
    },
    "gpuClass": "standard",
    "kernelspec": {
      "display_name": "Python 3",
      "name": "python3"
    },
    "language_info": {
      "name": "python"
    }
  },
  "nbformat": 4,
  "nbformat_minor": 0
}