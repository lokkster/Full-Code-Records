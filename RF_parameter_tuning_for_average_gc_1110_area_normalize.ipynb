{
  "nbformat": 4,
  "nbformat_minor": 0,
  "metadata": {
    "colab": {
      "private_outputs": true,
      "provenance": [],
      "mount_file_id": "1QGUYoc21sbirhHMuH0H6qn8DnUI50k2j",
      "authorship_tag": "ABX9TyOfx3hHRxp5lxfYF7sUCAVd",
      "include_colab_link": true
    },
    "kernelspec": {
      "name": "python3",
      "display_name": "Python 3"
    },
    "language_info": {
      "name": "python"
    }
  },
  "cells": [
    {
      "cell_type": "markdown",
      "metadata": {
        "id": "view-in-github",
        "colab_type": "text"
      },
      "source": [
        "<a href=\"https://colab.research.google.com/github/lokkster/Full-Code-Records/blob/Code/RF_parameter_tuning_for_average_gc_1110_area_normalize.ipynb\" target=\"_parent\"><img src=\"https://colab.research.google.com/assets/colab-badge.svg\" alt=\"Open In Colab\"/></a>"
      ]
    },
    {
      "cell_type": "code",
      "execution_count": null,
      "metadata": {
        "id": "3algFTwbg6Th"
      },
      "outputs": [],
      "source": [
        "import pandas as pd\n",
        "#data=pd.read_csv('/content/drive/MyDrive/Colab Notebooks/data/average GC full dataset new 1110 for colab.csv')\n",
        "!pip install xgboost==1.6.1\n",
        "import pickle\n",
        "from matplotlib import pyplot"
      ]
    },
    {
      "cell_type": "code",
      "source": [
        "data=pd.read_csv('/content/drive/MyDrive/Colab Notebooks/data/average GC full dataset new 1110 for colab area amplified arranged for colab.csv')\n"
      ],
      "metadata": {
        "id": "6u1vDxLypZ76"
      },
      "execution_count": null,
      "outputs": []
    },
    {
      "cell_type": "code",
      "source": [
        "from sklearn.model_selection import train_test_split\n",
        "X=data.iloc[:,:5].values\n",
        "Y = data.iloc[:,5:].values\n",
        "\n",
        "train_data,test_data,train_targets,test_targets=train_test_split(X,Y,test_size=0.11,random_state=42)\n",
        "print(len(train_data))\n",
        "print(len(test_data))\n",
        "print(test_data[0])"
      ],
      "metadata": {
        "id": "UC2jzTp2hFFZ"
      },
      "execution_count": null,
      "outputs": []
    },
    {
      "cell_type": "code",
      "source": [
        "from sklearn.multioutput import MultiOutputRegressor\n",
        "from sklearn.metrics import mean_absolute_error\n",
        "import numpy as np\n",
        "\n",
        "def mae(actual,pred):\n",
        "     return (mean_absolute_error(actual,pred))\n",
        "from sklearn.metrics import mean_absolute_percentage_error\n",
        "def mape(actual,pred):\n",
        "    calc=np.mean(np.absolute((actual-pred)*100/actual))\n",
        "    return calc"
      ],
      "metadata": {
        "id": "ctI3PxR2hIKZ"
      },
      "execution_count": null,
      "outputs": []
    },
    {
      "cell_type": "code",
      "source": [
        "from sklearn.ensemble import RandomForestRegressor\n",
        "rfr=RandomForestRegressor()"
      ],
      "metadata": {
        "id": "wHvwGoXIkwXy"
      },
      "execution_count": null,
      "outputs": []
    },
    {
      "cell_type": "markdown",
      "source": [
        "taking default params"
      ],
      "metadata": {
        "id": "ZsQMgRHCsdAb"
      }
    },
    {
      "cell_type": "code",
      "source": [
        "defparam=rfr.get_params()\n",
        "print(defparam)"
      ],
      "metadata": {
        "id": "ou9HVDX3scpb"
      },
      "execution_count": null,
      "outputs": []
    },
    {
      "cell_type": "code",
      "source": [
        "rfr.fit(train_data,train_targets)\n",
        "predrfr=rfr.predict(test_data)\n",
        "print(predrfr)\n",
        "print(test_targets)\n",
        "print(\"mae:\",mae(test_targets,predrfr))\n",
        "print(\"mape:\",mape(test_targets,predrfr))\n",
        "#xgbr.save_model('/content/drive/MyDrive/Colab Notebooks/xgbr_avggc5in.h5')"
      ],
      "metadata": {
        "id": "06mSnVztnNrg"
      },
      "execution_count": null,
      "outputs": []
    },
    {
      "cell_type": "code",
      "source": [
        "from sklearn.metrics import r2_score\n",
        "r2=r2_score(test_targets,predrfr,multioutput=\"variance_weighted\")\n",
        "print(r2)\n",
        "from sklearn.metrics import mean_squared_error\n",
        "from math import sqrt\n",
        "rmse=sqrt(mean_squared_error(test_targets,predrfr))\n",
        "print(\"rmse:\",rmse)"
      ],
      "metadata": {
        "id": "FaXhNGUZLX0k"
      },
      "execution_count": null,
      "outputs": []
    },
    {
      "cell_type": "markdown",
      "source": [
        "singular params\n"
      ],
      "metadata": {
        "id": "6jUVkCBMUl3X"
      }
    },
    {
      "cell_type": "code",
      "source": [
        "rfrne=RandomForestRegressor(max_features='sqrt',max_depth=10,min_samples_split=2,min_samples_leaf=1,n_estimators=1000)\n",
        "rfrne.fit(train_data,train_targets)\n",
        "predrfrne=rfrne.predict(test_data)\n",
        "print(predrfrne)\n",
        "print(test_targets)\n",
        "print(\"mae:\",mae(test_targets,predrfrne))\n",
        "print(\"mape:\",mape(test_targets,predrfrne))"
      ],
      "metadata": {
        "id": "tTXgu-tEYDrN"
      },
      "execution_count": null,
      "outputs": []
    },
    {
      "cell_type": "code",
      "source": [
        "#create an iterator object with write permission - model.pkl\n",
        "with open(\"/content/drive/MyDrive/Colab Notebooks/rfr_avggc1110areanorm.pkl\", 'wb') as files:\n",
        "    pickle.dump(rfrne, files)"
      ],
      "metadata": {
        "id": "W1RrfP8u7EGw"
      },
      "execution_count": null,
      "outputs": []
    },
    {
      "cell_type": "code",
      "source": [
        "from sklearn.metrics import r2_score\n",
        "r2=r2_score(test_targets,predrfrne,multioutput=\"variance_weighted\")\n",
        "print(r2)\n",
        "from sklearn.metrics import mean_squared_error\n",
        "from math import sqrt\n",
        "rmse=sqrt(mean_squared_error(test_targets,predrfrne))\n",
        "print(\"rmse:\",rmse)"
      ],
      "metadata": {
        "id": "gu0ty_q3tP_J"
      },
      "execution_count": null,
      "outputs": []
    },
    {
      "cell_type": "code",
      "source": [
        "import pickle\n",
        "with open(\"/content/drive/MyDrive/Colab Notebooks/rfr_avggc1110areanorm.pkl\" , 'rb') as f:\n",
        "    new_model = pickle.load(f)\n",
        "\n",
        "predrfrne2=new_model.predict(test_data)\n",
        "print(predrfrne2)\n",
        "print(test_targets)\n",
        "print(\"mae:\",mae(test_targets,predrfrne2))\n",
        "print(\"mape:\",mape(test_targets,predrfrne2))\n",
        "from sklearn.metrics import r2_score\n",
        "r2=r2_score(test_targets,predrfrne2,multioutput=\"variance_weighted\")\n",
        "print(r2)\n",
        "from sklearn.metrics import mean_squared_error\n",
        "from math import sqrt\n",
        "rmse=sqrt(mean_squared_error(test_targets,predrfrne))\n",
        "print(\"rmse:\",rmse)"
      ],
      "metadata": {
        "id": "_VJsOABsH49-"
      },
      "execution_count": null,
      "outputs": []
    },
    {
      "cell_type": "code",
      "source": [
        "from sklearn.model_selection import cross_val_score\n",
        "from sklearn.model_selection import KFold\n",
        "cv = KFold(n_splits=10, random_state=1, shuffle=True)\n",
        "cvsxgbr=cross_val_score(rfrne,train_data,train_targets,cv=cv,n_jobs=-1,scoring=\"neg_mean_absolute_error\")\n",
        "\n",
        "print(cvsxgbr)"
      ],
      "metadata": {
        "id": "N-vritIHeKmQ"
      },
      "execution_count": null,
      "outputs": []
    },
    {
      "cell_type": "code",
      "source": [
        "from numpy import mean,absolute\n",
        "scores=mean(absolute(cvsxgbr))\n",
        "\n",
        "print(scores)\n"
      ],
      "metadata": {
        "id": "PxBIsHlJe8SU"
      },
      "execution_count": null,
      "outputs": []
    },
    {
      "cell_type": "markdown",
      "source": [
        "Randomsearchcv\n"
      ],
      "metadata": {
        "id": "bKkdqereMVT6"
      }
    },
    {
      "cell_type": "code",
      "source": [
        "from sklearn.model_selection import RandomizedSearchCV\n",
        "# Number of trees in random forest\n",
        "n_estimators = [int(x) for x in np.linspace(start = 200, stop = 20000, num = 20)]\n",
        "# Number of features to consider at every split\n",
        "max_features = ['auto', 'sqrt']\n",
        "# Maximum number of levels in tree\n",
        "max_depth = [int(x) for x in np.linspace(10, 110, num = 11)]\n",
        "max_depth.append(None)\n",
        "# Minimum number of samples required to split a node\n",
        "min_samples_split = [2, 5, 8,10]\n",
        "# Minimum number of samples required at each leaf node\n",
        "min_samples_leaf = [1, 2, 3,4]\n",
        "# Method of selecting samples for training each tree\n",
        "bootstrap = [True, False]\n",
        "# Create the random grid\n",
        "random_grid = {'n_estimators': n_estimators,\n",
        "               'max_features': max_features,\n",
        "               'max_depth': max_depth,\n",
        "               'min_samples_split': min_samples_split,\n",
        "               'min_samples_leaf': min_samples_leaf,\n",
        "               'bootstrap': bootstrap}\n",
        "print(random_grid)\n"
      ],
      "metadata": {
        "id": "QOgEIqkrTKKV"
      },
      "execution_count": null,
      "outputs": []
    },
    {
      "cell_type": "code",
      "source": [
        "# Use the random grid to search for best hyperparameters\n",
        "# First create the base model to tune\n",
        "\n",
        "# Random search of parameters, using 3 fold cross validation, \n",
        "# search across 100 different combinations, and use all available cores\n",
        "rf_random = RandomizedSearchCV(estimator = rfr, param_distributions = random_grid, verbose=10,n_iter = 1000, cv = 3, random_state=42, n_jobs = -1)\n",
        "# Fit the random search model\n",
        "rf_random.fit(train_data, train_targets)"
      ],
      "metadata": {
        "id": "aMvg4CzWTO5u"
      },
      "execution_count": null,
      "outputs": []
    },
    {
      "cell_type": "code",
      "source": [
        "print(rf_random.best_params_)"
      ],
      "metadata": {
        "id": "urnnirIzhJzz"
      },
      "execution_count": null,
      "outputs": []
    },
    {
      "cell_type": "markdown",
      "source": [
        " 10/29\n",
        " {'n_estimators': 200, 'min_samples_split': 2, 'min_samples_leaf': 1, 'max_features': 'auto', 'max_depth': None, 'bootstrap': True} \n",
        " mae: 2.726143882966041\n",
        "mape: 18.14193696798576"
      ],
      "metadata": {
        "id": "BBc6lfjDXuom"
      }
    },
    {
      "cell_type": "code",
      "source": [
        "rfr2=RandomForestRegressor(n_estimators=20000,min_samples_split=2,min_samples_leaf=1,max_features='auto',max_depth=10,bootstrap=True)\n",
        "rfr2.fit(train_data,train_targets)\n",
        "predrfr2=rfr2.predict(test_data)\n",
        "print(predrfr2)\n",
        "print(test_targets)\n",
        "print(\"mae:\",mae(test_targets,predrfr2))\n",
        "print(\"mape:\",mape(test_targets,predrfr2))"
      ],
      "metadata": {
        "id": "VY-LIppFor3e"
      },
      "execution_count": null,
      "outputs": []
    }
  ]
}